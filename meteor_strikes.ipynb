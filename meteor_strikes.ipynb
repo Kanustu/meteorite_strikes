{
 "cells": [
  {
   "cell_type": "code",
   "execution_count": 1,
   "id": "42800cda-bc10-4129-9aaa-261dea4153d8",
   "metadata": {},
   "outputs": [],
   "source": [
    "import pandas as pd"
   ]
  },
  {
   "cell_type": "code",
   "execution_count": 2,
   "id": "6084a3b7-c6ec-4599-8a08-fac7f4b5b2a9",
   "metadata": {},
   "outputs": [],
   "source": [
    "m_db = pd.read_csv(\"Meteorite_landings.csv\")"
   ]
  },
  {
   "cell_type": "code",
   "execution_count": 3,
   "id": "ba3f00c3-0496-41b9-83cc-86abb79021e8",
   "metadata": {},
   "outputs": [
    {
     "name": "stdout",
     "output_type": "stream",
     "text": [
      "<class 'pandas.core.frame.DataFrame'>\n",
      "RangeIndex: 45716 entries, 0 to 45715\n",
      "Data columns (total 9 columns):\n",
      " #   Column    Non-Null Count  Dtype  \n",
      "---  ------    --------------  -----  \n",
      " 0   name      45716 non-null  object \n",
      " 1   id        45716 non-null  int64  \n",
      " 2   nametype  45716 non-null  object \n",
      " 3   recclass  45716 non-null  object \n",
      " 4   mass (g)  45585 non-null  float64\n",
      " 5   fall      45716 non-null  object \n",
      " 6   year      45425 non-null  float64\n",
      " 7   reclat    38401 non-null  float64\n",
      " 8   reclong   38401 non-null  float64\n",
      "dtypes: float64(4), int64(1), object(4)\n",
      "memory usage: 3.1+ MB\n"
     ]
    }
   ],
   "source": [
    "m_db.info()"
   ]
  },
  {
   "cell_type": "code",
   "execution_count": null,
   "id": "c45bc19f-c850-4692-9eca-6a877b4dbbe3",
   "metadata": {},
   "outputs": [],
   "source": []
  }
 ],
 "metadata": {
  "kernelspec": {
   "display_name": "ava",
   "language": "python",
   "name": "ava"
  },
  "language_info": {
   "codemirror_mode": {
    "name": "ipython",
    "version": 3
   },
   "file_extension": ".py",
   "mimetype": "text/x-python",
   "name": "python",
   "nbconvert_exporter": "python",
   "pygments_lexer": "ipython3",
   "version": "3.10.13"
  }
 },
 "nbformat": 4,
 "nbformat_minor": 5
}

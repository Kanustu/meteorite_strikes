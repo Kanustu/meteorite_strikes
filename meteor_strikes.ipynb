{
 "cells": [
  {
   "cell_type": "code",
   "execution_count": 1,
   "id": "42800cda-bc10-4129-9aaa-261dea4153d8",
   "metadata": {},
   "outputs": [],
   "source": [
    "import pandas as pd"
   ]
  },
  {
   "cell_type": "code",
   "execution_count": 3,
   "id": "6084a3b7-c6ec-4599-8a08-fac7f4b5b2a9",
   "metadata": {},
   "outputs": [],
   "source": [
    "m_db = pd.read_csv(\"Meteorite_landings.csv\")"
   ]
  },
  {
   "cell_type": "code",
   "execution_count": 16,
   "id": "ba3f00c3-0496-41b9-83cc-86abb79021e8",
   "metadata": {},
   "outputs": [
    {
     "data": {
      "text/plain": [
       "0        1880.0\n",
       "1        1951.0\n",
       "2        1952.0\n",
       "3        1976.0\n",
       "4        1902.0\n",
       "          ...  \n",
       "45711    1990.0\n",
       "45712    1999.0\n",
       "45713    1939.0\n",
       "45714    2003.0\n",
       "45715    1976.0\n",
       "Name: year, Length: 45716, dtype: float64"
      ]
     },
     "execution_count": 16,
     "metadata": {},
     "output_type": "execute_result"
    }
   ],
   "source": [
    "m_db"
   ]
  }
 ],
 "metadata": {
  "kernelspec": {
   "display_name": "ava",
   "language": "python",
   "name": "ava"
  },
  "language_info": {
   "codemirror_mode": {
    "name": "ipython",
    "version": 3
   },
   "file_extension": ".py",
   "mimetype": "text/x-python",
   "name": "python",
   "nbconvert_exporter": "python",
   "pygments_lexer": "ipython3",
   "version": "3.10.13"
  }
 },
 "nbformat": 4,
 "nbformat_minor": 5
}
